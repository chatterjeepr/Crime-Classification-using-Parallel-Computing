{
 "cells": [
  {
   "cell_type": "code",
   "execution_count": 1,
   "id": "3107f0fd",
   "metadata": {},
   "outputs": [
    {
     "name": "stderr",
     "output_type": "stream",
     "text": [
      "Setting default log level to \"WARN\".\n",
      "To adjust logging level use sc.setLogLevel(newLevel). For SparkR, use setLogLevel(newLevel).\n",
      "23/12/13 12:51:14 WARN NativeCodeLoader: Unable to load native-hadoop library for your platform... using builtin-java classes where applicable\n"
     ]
    }
   ],
   "source": [
    "from pyspark import SparkContext\n",
    "\n",
    "# Stop the existing SparkContext if it is not None\n",
    "sc = SparkContext.getOrCreate()\n",
    "if sc:\n",
    "    sc.stop()\n"
   ]
  },
  {
   "cell_type": "code",
   "execution_count": 2,
   "id": "d977d33e",
   "metadata": {},
   "outputs": [],
   "source": [
    "import pyspark\n",
    "spark = pyspark.sql.SparkSession.builder.appName(\"SFC\").getOrCreate()\n",
    "\n",
    "sc = spark.sparkContext\n"
   ]
  },
  {
   "cell_type": "code",
   "execution_count": 3,
   "id": "5323310f",
   "metadata": {},
   "outputs": [],
   "source": [
    "import seaborn as sns\n",
    "import matplotlib.pyplot as plt\n",
    "import numpy as np\n",
    "%matplotlib inline\n",
    "np.random.seed(60)"
   ]
  },
  {
   "cell_type": "code",
   "execution_count": 4,
   "id": "9d05e408",
   "metadata": {},
   "outputs": [
    {
     "name": "stdout",
     "output_type": "stream",
     "text": [
      "Dates,Category,Descript,DayOfWeek,PdDistrict,Resolution,Address,X,Y\n",
      "2015-05-13 23:53:00,WARRANTS,WARRANT ARREST,Wednesday,NORTHERN,\"ARREST, BOOKED\",OAK ST / LAGUNA ST,-122.425891675136,37.7745985956747\n",
      "2015-05-13 23:53:00,OTHER OFFENSES,TRAFFIC VIOLATION ARREST,Wednesday,NORTHERN,\"ARREST, BOOKED\",OAK ST / LAGUNA ST,-122.425891675136,37.7745985956747\n",
      "2015-05-13 23:33:00,OTHER OFFENSES,TRAFFIC VIOLATION ARREST,Wednesday,NORTHERN,\"ARREST, BOOKED\",VANNESS AV / GREENWICH ST,-122.42436302145,37.8004143219856\n",
      "2015-05-13 23:30:00,LARCENY/THEFT,GRAND THEFT FROM LOCKED AUTO,Wednesday,NORTHERN,NONE,1500 Block of LOMBARD ST,-122.42699532676599,37.80087263276921\n"
     ]
    }
   ],
   "source": [
    "%%sh\n",
    "#Let see the first 5 rows\n",
    "head -5 train.csv"
   ]
  },
  {
   "cell_type": "code",
   "execution_count": 30,
   "id": "0caf6314",
   "metadata": {},
   "outputs": [
    {
     "name": "stderr",
     "output_type": "stream",
     "text": [
      "23/12/13 14:12:39 WARN CacheManager: Asked to cache already cached data.        \n"
     ]
    },
    {
     "name": "stdout",
     "output_type": "stream",
     "text": [
      "Time taken for loading data: 0.8943850994110107 seconds\n",
      "Dataframe Structure\n",
      "----------------------------------\n",
      "root\n",
      " |-- Category: string (nullable = true)\n",
      " |-- Description: string (nullable = true)\n",
      "\n",
      "None\n",
      " \n",
      "Dataframe preview\n",
      "+--------------+--------------------+\n",
      "|      Category|         Description|\n",
      "+--------------+--------------------+\n",
      "|      warrants|      warrant arrest|\n",
      "|other offenses|traffic violation...|\n",
      "|other offenses|traffic violation...|\n",
      "| larceny/theft|grand theft from ...|\n",
      "| larceny/theft|grand theft from ...|\n",
      "+--------------+--------------------+\n",
      "only showing top 5 rows\n",
      "\n",
      "None\n",
      " \n",
      "----------------------------------\n",
      "Total number of rows 878049\n"
     ]
    }
   ],
   "source": [
    "#Read the data into spark datafrome\n",
    "# Record the start time\n",
    "start_time = time.time()\n",
    "\n",
    "from pyspark.sql.functions import col, lower\n",
    "df = spark.read.format('csv')\\\n",
    "          .option('header','true')\\\n",
    "          .option('inferSchema', 'true')\\\n",
    "          .option('timestamp', 'true')\\\n",
    "          .load('train.csv')\n",
    "\n",
    "# Record the end time\n",
    "end_time = time.time()\n",
    "\n",
    "# Calculate the time taken\n",
    "loading_time = end_time - start_time\n",
    "\n",
    "# Print the loading time\n",
    "print(f\"Time taken for loading data: {loading_time} seconds\")\n",
    "\n",
    "data = df.select(lower(col('Category')),lower(col('Descript')))\\\n",
    "        .withColumnRenamed('lower(Category)','Category')\\\n",
    "        .withColumnRenamed('lower(Descript)', 'Description')\n",
    "data.cache()\n",
    "print('Dataframe Structure')\n",
    "print('----------------------------------')\n",
    "print(data.printSchema())\n",
    "print(' ')\n",
    "print('Dataframe preview')\n",
    "print(data.show(5))\n",
    "print(' ')\n",
    "print('----------------------------------')\n",
    "print('Total number of rows', df.count())\n"
   ]
  },
  {
   "cell_type": "code",
   "execution_count": 6,
   "id": "a16f11d7",
   "metadata": {},
   "outputs": [
    {
     "name": "stdout",
     "output_type": "stream",
     "text": [
      "Total number of unique value of Category: 39\n",
      " \n",
      "Top 10 Crime Category\n",
      "+--------------+----------+\n",
      "|      Category|totalValue|\n",
      "+--------------+----------+\n",
      "| larceny/theft|    174900|\n",
      "|other offenses|    126182|\n",
      "|  non-criminal|     92304|\n",
      "|       assault|     76876|\n",
      "| drug/narcotic|     53971|\n",
      "| vehicle theft|     53781|\n",
      "|     vandalism|     44725|\n",
      "|      warrants|     42214|\n",
      "|      burglary|     36755|\n",
      "|suspicious occ|     31414|\n",
      "+--------------+----------+\n",
      "only showing top 10 rows\n",
      "\n",
      " \n",
      " \n",
      "Total number of unique value of Description: 879\n",
      " \n",
      "Top 10 Crime Description\n",
      "+--------------------+----------+\n",
      "|         Description|totalValue|\n",
      "+--------------------+----------+\n",
      "|grand theft from ...|     60022|\n",
      "|       lost property|     31729|\n",
      "|             battery|     27441|\n",
      "|   stolen automobile|     26897|\n",
      "|drivers license, ...|     26839|\n",
      "|      warrant arrest|     23754|\n",
      "|suspicious occurr...|     21891|\n",
      "|aided case, menta...|     21497|\n",
      "|petty theft from ...|     19771|\n",
      "|malicious mischie...|     17789|\n",
      "+--------------------+----------+\n",
      "only showing top 10 rows\n",
      "\n"
     ]
    }
   ],
   "source": [
    "def top_n_list(df,var, N):\n",
    "    '''\n",
    "    This function determine the top N numbers of the list\n",
    "    '''\n",
    "    print(\"Total number of unique value of\"+' '+var+''+':'+' '+str(df.select(var).distinct().count()))\n",
    "    print(' ')\n",
    "    print('Top'+' '+str(N)+' '+'Crime'+' '+var)\n",
    "    df.groupBy(var).count().withColumnRenamed('count','totalValue')\\\n",
    "    .orderBy(col('totalValue').desc()).show(N)\n",
    "    \n",
    "    \n",
    "top_n_list(data, 'Category',10)\n",
    "print(' ')\n",
    "print(' ')\n",
    "top_n_list(data,'Description',10)"
   ]
  },
  {
   "cell_type": "code",
   "execution_count": 7,
   "id": "b8e28dd0",
   "metadata": {},
   "outputs": [
    {
     "data": {
      "text/plain": [
       "39"
      ]
     },
     "execution_count": 7,
     "metadata": {},
     "output_type": "execute_result"
    }
   ],
   "source": [
    "data.select('Category').distinct().count()"
   ]
  },
  {
   "cell_type": "code",
   "execution_count": 8,
   "id": "d3e34c8b",
   "metadata": {},
   "outputs": [
    {
     "name": "stdout",
     "output_type": "stream",
     "text": [
      "Training Dataset Count: 614457\n",
      "Test Dataset Count: 263592\n"
     ]
    }
   ],
   "source": [
    "training, test = data.randomSplit([0.7,0.3], seed=60)\n",
    "#trainingSet.cache()\n",
    "print(\"Training Dataset Count:\", training.count())\n",
    "print(\"Test Dataset Count:\", test.count())"
   ]
  },
  {
   "cell_type": "code",
   "execution_count": 9,
   "id": "b65a38cc",
   "metadata": {},
   "outputs": [],
   "source": [
    "from pyspark.ml.feature import RegexTokenizer, StopWordsRemover, CountVectorizer, OneHotEncoder, StringIndexer, VectorAssembler, HashingTF, IDF, Word2Vec\n",
    "from pyspark.ml import Pipeline\n",
    "from pyspark.ml.classification import LogisticRegression, NaiveBayes \n",
    "\n",
    "#----------------Define tokenizer with regextokenizer()------------------\n",
    "regex_tokenizer = RegexTokenizer(pattern='\\\\W')\\\n",
    "                  .setInputCol(\"Description\")\\\n",
    "                  .setOutputCol(\"tokens\")\n",
    "\n",
    "#----------------Define stopwords with stopwordsremover()---------------------\n",
    "extra_stopwords = ['http','amp','rt','t','c','the']\n",
    "stopwords_remover = StopWordsRemover()\\\n",
    "                    .setInputCol('tokens')\\\n",
    "                    .setOutputCol('filtered_words')\\\n",
    "                    .setStopWords(extra_stopwords)\n",
    "                    \n",
    "\n",
    "#----------Define bags of words using countVectorizer()---------------------------\n",
    "count_vectors = CountVectorizer(vocabSize=10000, minDF=5)\\\n",
    "               .setInputCol(\"filtered_words\")\\\n",
    "               .setOutputCol(\"features\")\n",
    "\n",
    "\n",
    "#-----------Using TF-IDF to vectorise features instead of countVectoriser-----------------\n",
    "hashingTf = HashingTF(numFeatures=10000)\\\n",
    "            .setInputCol(\"filtered_words\")\\\n",
    "            .setOutputCol(\"raw_features\")\n",
    "            \n",
    "#Use minDocFreq to remove sparse terms\n",
    "idf = IDF(minDocFreq=5)\\\n",
    "        .setInputCol(\"raw_features\")\\\n",
    "        .setOutputCol(\"features\")\n",
    "\n",
    "#---------------Define bag of words using Word2Vec---------------------------\n",
    "word2Vec = Word2Vec(vectorSize=1000, minCount=0)\\\n",
    "           .setInputCol(\"filtered_words\")\\\n",
    "           .setOutputCol(\"features\")\n",
    "\n",
    "#-----------Encode the Category variable into label using StringIndexer-----------\n",
    "label_string_idx = StringIndexer()\\\n",
    "                  .setInputCol(\"Category\")\\\n",
    "                  .setOutputCol(\"label\")\n",
    "\n",
    "#-----------Define classifier structure for logistic Regression--------------\n",
    "lr = LogisticRegression(maxIter=20, regParam=0.3, elasticNetParam=0)\n",
    "\n",
    "#---------Define classifier structure for Naive Bayes----------\n",
    "nb = NaiveBayes(smoothing=1)\n",
    "\n",
    "def metrics_ev(labels, metrics):\n",
    "    '''\n",
    "    List of all performance metrics\n",
    "    '''\n",
    "    # Confusion matrix\n",
    "    print(\"---------Confusion matrix-----------------\")\n",
    "    print(metrics.confusionMatrix)\n",
    "    print(' ')    \n",
    "    # Overall statistics\n",
    "    print('----------Overall statistics-----------')\n",
    "    print(\"Precision = %s\" %  metrics.precision())\n",
    "    print(\"Recall = %s\" %  metrics.recall())\n",
    "    print(\"F1 Score = %s\" % metrics.fMeasure())\n",
    "    print(' ')\n",
    "    # Statistics by class\n",
    "    print('----------Statistics by class----------')\n",
    "    for label in sorted(labels):\n",
    "       print(\"Class %s precision = %s\" % (label, metrics.precision(label)))\n",
    "       print(\"Class %s recall = %s\" % (label, metrics.recall(label)))\n",
    "       print(\"Class %s F1 Measure = %s\" % (label, metrics.fMeasure(label, beta=1.0)))\n",
    "    print(' ')\n",
    "    # Weighted stats\n",
    "    print('----------Weighted stats----------------')\n",
    "    print(\"Weighted recall = %s\" % metrics.weightedRecall)\n",
    "    print(\"Weighted precision = %s\" % metrics.weightedPrecision)\n",
    "    print(\"Weighted F(1) Score = %s\" % metrics.weightedFMeasure())\n",
    "    print(\"Weighted F(0.5) Score = %s\" % metrics.weightedFMeasure(beta=0.5))\n",
    "    print(\"Weighted false positive rate = %s\" % metrics.weightedFalsePositiveRate)\n",
    "    "
   ]
  },
  {
   "cell_type": "code",
   "execution_count": 10,
   "id": "e4ad875b",
   "metadata": {},
   "outputs": [
    {
     "name": "stderr",
     "output_type": "stream",
     "text": [
      "23/12/13 12:51:27 WARN InstanceBuilder: Failed to load implementation from:dev.ludovic.netlib.blas.JNIBLAS\n",
      "23/12/13 12:51:28 WARN InstanceBuilder: Failed to load implementation from:dev.ludovic.netlib.blas.VectorBLAS\n",
      "23/12/13 12:51:29 WARN GarbageCollectionMetrics: To enable non-built-in garbage collector(s) List(G1 Concurrent GC), users should configure it(them) to spark.eventLog.gcMetrics.youngGenerationGarbageCollectors or spark.eventLog.gcMetrics.oldGenerationGarbageCollectors\n"
     ]
    }
   ],
   "source": [
    "\n",
    "pipeline_cv_lr = Pipeline().setStages([regex_tokenizer,stopwords_remover,count_vectors,label_string_idx, lr])\n",
    "model_cv_lr = pipeline_cv_lr.fit(training)\n",
    "predictions_cv_lr = model_cv_lr.transform(test)"
   ]
  },
  {
   "cell_type": "code",
   "execution_count": 11,
   "id": "8ae83307",
   "metadata": {},
   "outputs": [
    {
     "name": "stdout",
     "output_type": "stream",
     "text": [
      "-----------------------------Check Top 5 predictions----------------------------------\n",
      " \n",
      "+------------------------------+-------------+------------------------------+-----+----------+\n",
      "|                   Description|     Category|                   probability|label|prediction|\n",
      "+------------------------------+-------------+------------------------------+-----+----------+\n",
      "|theft, bicycle, <$50, no se...|larceny/theft|[0.8717529184383112,0.02156...|  0.0|       0.0|\n",
      "|theft, bicycle, <$50, no se...|larceny/theft|[0.8717529184383112,0.02156...|  0.0|       0.0|\n",
      "|theft, bicycle, <$50, no se...|larceny/theft|[0.8717529184383112,0.02156...|  0.0|       0.0|\n",
      "|theft, bicycle, <$50, no se...|larceny/theft|[0.8717529184383112,0.02156...|  0.0|       0.0|\n",
      "|theft, bicycle, <$50, no se...|larceny/theft|[0.8717529184383112,0.02156...|  0.0|       0.0|\n",
      "+------------------------------+-------------+------------------------------+-----+----------+\n",
      "only showing top 5 rows\n",
      "\n"
     ]
    },
    {
     "name": "stderr",
     "output_type": "stream",
     "text": [
      "\r",
      "[Stage 88:=============================>                            (4 + 4) / 8]\r",
      "\r",
      "                                                                                \r"
     ]
    }
   ],
   "source": [
    "print('-----------------------------Check Top 5 predictions----------------------------------')\n",
    "print(' ')\n",
    "predictions_cv_lr.select('Description','Category',\"probability\",\"label\",\"prediction\")\\\n",
    "                                        .orderBy(\"probability\", ascending=False)\\\n",
    "                                        .show(n=5, truncate=30)"
   ]
  },
  {
   "cell_type": "code",
   "execution_count": 12,
   "id": "a8e0dac8",
   "metadata": {},
   "outputs": [
    {
     "name": "stdout",
     "output_type": "stream",
     "text": [
      " \n",
      "------------------------------Accuracy----------------------------------\n",
      " \n",
      "                       accuracy:0.9723579882349168:\n"
     ]
    },
    {
     "name": "stderr",
     "output_type": "stream",
     "text": [
      "\r",
      "[Stage 89:==============>                                           (2 + 6) / 8]\r",
      "\r",
      "                                                                                \r"
     ]
    }
   ],
   "source": [
    "from pyspark.ml.evaluation import MulticlassClassificationEvaluator \n",
    "evaluator_cv_lr = MulticlassClassificationEvaluator().setPredictionCol(\"prediction\").evaluate(predictions_cv_lr)\n",
    "print(' ')\n",
    "print('------------------------------Accuracy----------------------------------')\n",
    "print(' ')\n",
    "print('                       accuracy:{}:'.format(evaluator_cv_lr))"
   ]
  },
  {
   "cell_type": "code",
   "execution_count": 17,
   "id": "cdf5d4be",
   "metadata": {},
   "outputs": [
    {
     "name": "stderr",
     "output_type": "stream",
     "text": [
      "23/12/13 13:07:11 WARN CacheManager: Asked to cache already cached data.        \n"
     ]
    },
    {
     "name": "stdout",
     "output_type": "stream",
     "text": [
      "Total number of unique values of Category : 39\n",
      "\n",
      "Top 10 Crime Category:\n",
      "+--------------+----------+\n",
      "|      Category|totalValue|\n",
      "+--------------+----------+\n",
      "| larceny/theft|    174900|\n",
      "|other offenses|    126182|\n",
      "|  non-criminal|     92304|\n",
      "|       assault|     76876|\n",
      "| drug/narcotic|     53971|\n",
      "| vehicle theft|     53781|\n",
      "|     vandalism|     44725|\n",
      "|      warrants|     42214|\n",
      "|      burglary|     36755|\n",
      "|suspicious occ|     31414|\n",
      "+--------------+----------+\n",
      "only showing top 10 rows\n",
      "\n",
      "Total number of unique values of Description : 879\n",
      "\n",
      "Top 10 Crime Description:\n",
      "+--------------------+----------+\n",
      "|         Description|totalValue|\n",
      "+--------------------+----------+\n",
      "|grand theft from ...|     60022|\n",
      "|       lost property|     31729|\n",
      "|             battery|     27441|\n",
      "|   stolen automobile|     26897|\n",
      "|drivers license, ...|     26839|\n",
      "|      warrant arrest|     23754|\n",
      "|suspicious occurr...|     21891|\n",
      "|aided case, menta...|     21497|\n",
      "|petty theft from ...|     19771|\n",
      "|malicious mischie...|     17789|\n",
      "+--------------------+----------+\n",
      "only showing top 10 rows\n",
      "\n"
     ]
    },
    {
     "name": "stderr",
     "output_type": "stream",
     "text": [
      "23/12/13 13:08:54 WARN CacheManager: Asked to cache already cached data.        \n",
      "23/12/13 13:08:54 WARN CacheManager: Asked to cache already cached data.\n",
      "23/12/13 13:10:40 WARN BlockManager: Asked to remove block broadcast_9564, which does not exist\n",
      "                                                                                \r"
     ]
    },
    {
     "name": "stdout",
     "output_type": "stream",
     "text": [
      "Accuracy: 0.993804819569638\n",
      "Best RegParam: 0.1\n",
      "Best ElasticNetParam: 0.0\n"
     ]
    }
   ],
   "source": [
    "import pyspark\n",
    "from pyspark.ml.feature import RegexTokenizer, StopWordsRemover, CountVectorizer, StringIndexer\n",
    "from pyspark.ml.classification import LogisticRegression\n",
    "from pyspark.ml.tuning import ParamGridBuilder, CrossValidator\n",
    "from pyspark.ml import Pipeline\n",
    "from pyspark.ml.evaluation import MulticlassClassificationEvaluator\n",
    "from pyspark.sql.functions import col, lower\n",
    "\n",
    "# Create a Spark session\n",
    "spark = pyspark.sql.SparkSession.builder.appName(\"SFC\").getOrCreate()\n",
    "sc = spark.sparkContext\n",
    "\n",
    "# Read the data into a Spark DataFrame\n",
    "df = spark.read.format('csv')\\\n",
    "    .option('header', 'true')\\\n",
    "    .option('inferSchema', 'true')\\\n",
    "    .option('timestamp', 'true')\\\n",
    "    .load('train.csv')\n",
    "\n",
    "# Preprocess the data\n",
    "data = df.select(lower(col('Category')), lower(col('Descript')))\\\n",
    "    .withColumnRenamed('lower(Category)', 'Category')\\\n",
    "    .withColumnRenamed('lower(Descript)', 'Description')\n",
    "data.cache()\n",
    "\n",
    "# Function to determine the top N values in a column\n",
    "def top_n_list(df, var, N):\n",
    "    print(\"Total number of unique values of {} : {}\".format(var, df.select(var).distinct().count()))\n",
    "    print('\\nTop {} Crime {}:'.format(N, var))\n",
    "    df.groupBy(var).count().withColumnRenamed('count', 'totalValue')\\\n",
    "        .orderBy(col('totalValue').desc()).show(N)\n",
    "\n",
    "# Display top categories and descriptions\n",
    "top_n_list(data, 'Category', 10)\n",
    "top_n_list(data, 'Description', 10)\n",
    "\n",
    "# Split the data into training and test sets\n",
    "training, test = data.randomSplit([0.7, 0.3], seed=60)\n",
    "\n",
    "# Define the stages for the pipeline\n",
    "regex_tokenizer = RegexTokenizer(pattern='\\\\W')\\\n",
    "    .setInputCol(\"Description\")\\\n",
    "    .setOutputCol(\"tokens\")\n",
    "\n",
    "extra_stopwords = ['http', 'amp', 'rt', 't', 'c', 'the']\n",
    "stopwords_remover = StopWordsRemover()\\\n",
    "    .setInputCol('tokens')\\\n",
    "    .setOutputCol('filtered_words')\\\n",
    "    .setStopWords(extra_stopwords)\n",
    "\n",
    "count_vectors = CountVectorizer(vocabSize=10000, minDF=5)\\\n",
    "    .setInputCol(\"filtered_words\")\\\n",
    "    .setOutputCol(\"features\")\n",
    "\n",
    "# Use handleInvalid=\"keep\" to handle unseen labels\n",
    "label_string_idx = StringIndexer()\\\n",
    "    .setInputCol(\"Category\")\\\n",
    "    .setOutputCol(\"label\")\\\n",
    "    .setHandleInvalid(\"keep\")\n",
    "\n",
    "lr = LogisticRegression(maxIter=20, regParam=0.3, elasticNetParam=0)\n",
    "\n",
    "# Define the pipeline\n",
    "pipeline = Pipeline().setStages([regex_tokenizer, stopwords_remover, count_vectors, label_string_idx, lr])\n",
    "\n",
    "# Define the parameter grid for cross-validation\n",
    "param_grid = ParamGridBuilder()\\\n",
    "    .addGrid(lr.regParam, [0.1, 0.3, 0.5])\\\n",
    "    .addGrid(lr.elasticNetParam, [0.0, 0.2, 0.4])\\\n",
    "    .build()\n",
    "\n",
    "# Define the evaluator\n",
    "evaluator = MulticlassClassificationEvaluator(labelCol='label', predictionCol='prediction', metricName='accuracy')\n",
    "\n",
    "# Define the CrossValidator\n",
    "crossval = CrossValidator(estimator=pipeline,\n",
    "                          estimatorParamMaps=param_grid,\n",
    "                          evaluator=evaluator,\n",
    "                          numFolds=5)\n",
    "\n",
    "# Fit the model using cross-validation\n",
    "cv_model = crossval.fit(training)\n",
    "\n",
    "# Make predictions on the test set\n",
    "predictions_cv = cv_model.transform(test)\n",
    "\n",
    "# Evaluate the model\n",
    "accuracy = evaluator.evaluate(predictions_cv)\n",
    "print(\"Accuracy: {}\".format(accuracy))\n",
    "\n",
    "# Get the best model from cross-validation\n",
    "best_model = cv_model.bestModel\n",
    "\n",
    "# Display the best parameters\n",
    "print(\"Best RegParam: {}\".format(best_model.stages[-1]._java_obj.getRegParam()))\n",
    "print(\"Best ElasticNetParam: {}\".format(best_model.stages[-1]._java_obj.getElasticNetParam()))\n"
   ]
  },
  {
   "cell_type": "code",
   "execution_count": 19,
   "id": "ce3f70af",
   "metadata": {},
   "outputs": [
    {
     "name": "stderr",
     "output_type": "stream",
     "text": [
      "23/12/13 13:25:15 WARN CacheManager: Asked to cache already cached data.        \n"
     ]
    },
    {
     "name": "stdout",
     "output_type": "stream",
     "text": [
      "Loading Data Time: 1.0222420692443848 seconds\n",
      "Total number of unique values of Category : 39\n",
      "\n",
      "Top 10 Crime Category:\n",
      "+--------------+----------+\n",
      "|      Category|totalValue|\n",
      "+--------------+----------+\n",
      "| larceny/theft|    174900|\n",
      "|other offenses|    126182|\n",
      "|  non-criminal|     92304|\n",
      "|       assault|     76876|\n",
      "| drug/narcotic|     53971|\n",
      "| vehicle theft|     53781|\n",
      "|     vandalism|     44725|\n",
      "|      warrants|     42214|\n",
      "|      burglary|     36755|\n",
      "|suspicious occ|     31414|\n",
      "+--------------+----------+\n",
      "only showing top 10 rows\n",
      "\n",
      "Total number of unique values of Description : 879\n",
      "\n",
      "Top 10 Crime Description:\n",
      "+--------------------+----------+\n",
      "|         Description|totalValue|\n",
      "+--------------------+----------+\n",
      "|grand theft from ...|     60022|\n",
      "|       lost property|     31729|\n",
      "|             battery|     27441|\n",
      "|   stolen automobile|     26897|\n",
      "|drivers license, ...|     26839|\n",
      "|      warrant arrest|     23754|\n",
      "|suspicious occurr...|     21891|\n",
      "|aided case, menta...|     21497|\n",
      "|petty theft from ...|     19771|\n",
      "|malicious mischie...|     17789|\n",
      "+--------------------+----------+\n",
      "only showing top 10 rows\n",
      "\n"
     ]
    },
    {
     "name": "stderr",
     "output_type": "stream",
     "text": [
      "                                                                                \r"
     ]
    },
    {
     "name": "stdout",
     "output_type": "stream",
     "text": [
      "GridSearchCV Execution Time: 276.05048298835754 seconds\n",
      "Accuracy: 0.993804819569638\n",
      "Best RegParam: 0.1\n",
      "Best ElasticNetParam: 0.0\n"
     ]
    },
    {
     "name": "stderr",
     "output_type": "stream",
     "text": [
      "\r",
      "[Stage 12955:======>                                                (1 + 7) / 8]\r",
      "\r",
      "                                                                                \r"
     ]
    }
   ],
   "source": [
    "import pyspark\n",
    "from pyspark.ml.feature import RegexTokenizer, StopWordsRemover, CountVectorizer, StringIndexer\n",
    "from pyspark.ml.classification import LogisticRegression\n",
    "from pyspark.ml.tuning import ParamGridBuilder, CrossValidator\n",
    "from pyspark.ml import Pipeline\n",
    "from pyspark.ml.evaluation import MulticlassClassificationEvaluator\n",
    "from pyspark.sql.functions import col, lower\n",
    "import time\n",
    "\n",
    "# Start the timer for loading data\n",
    "start_time_loading_data = time.time()\n",
    "\n",
    "# Create a Spark session\n",
    "spark = pyspark.sql.SparkSession.builder.appName(\"SFC\").getOrCreate()\n",
    "sc = spark.sparkContext\n",
    "\n",
    "# Read the data into a Spark DataFrame\n",
    "df = spark.read.format('csv')\\\n",
    "    .option('header', 'true')\\\n",
    "    .option('inferSchema', 'true')\\\n",
    "    .option('timestamp', 'true')\\\n",
    "    .load('train.csv')\n",
    "\n",
    "# End the timer for loading data\n",
    "end_time_loading_data = time.time()\n",
    "\n",
    "# Calculate and print the loading data time\n",
    "loading_data_time = end_time_loading_data - start_time_loading_data\n",
    "print(f\"Loading Data Time: {loading_data_time} seconds\")\n",
    "\n",
    "# Preprocess the data\n",
    "data = df.select(lower(col('Category')), lower(col('Descript')))\\\n",
    "    .withColumnRenamed('lower(Category)', 'Category')\\\n",
    "    .withColumnRenamed('lower(Descript)', 'Description')\n",
    "data.cache()\n",
    "\n",
    "# Function to determine the top N values in a column\n",
    "def top_n_list(df, var, N):\n",
    "    print(\"Total number of unique values of {} : {}\".format(var, df.select(var).distinct().count()))\n",
    "    print('\\nTop {} Crime {}:'.format(N, var))\n",
    "    df.groupBy(var).count().withColumnRenamed('count', 'totalValue')\\\n",
    "        .orderBy(col('totalValue').desc()).show(N)\n",
    "\n",
    "# Display top categories and descriptions\n",
    "top_n_list(data, 'Category', 10)\n",
    "top_n_list(data, 'Description', 10)\n",
    "\n",
    "# Split the data into training and test sets\n",
    "training, test = data.randomSplit([0.7, 0.3], seed=60)\n",
    "\n",
    "# Define the stages for the pipeline\n",
    "regex_tokenizer = RegexTokenizer(pattern='\\\\W')\\\n",
    "    .setInputCol(\"Description\")\\\n",
    "    .setOutputCol(\"tokens\")\n",
    "\n",
    "extra_stopwords = ['http', 'amp', 'rt', 't', 'c', 'the']\n",
    "stopwords_remover = StopWordsRemover()\\\n",
    "    .setInputCol('tokens')\\\n",
    "    .setOutputCol('filtered_words')\\\n",
    "    .setStopWords(extra_stopwords)\n",
    "\n",
    "count_vectors = CountVectorizer(vocabSize=10000, minDF=5)\\\n",
    "    .setInputCol(\"filtered_words\")\\\n",
    "    .setOutputCol(\"features\")\n",
    "\n",
    "# Use handleInvalid=\"keep\" to handle unseen labels\n",
    "label_string_idx = StringIndexer()\\\n",
    "    .setInputCol(\"Category\")\\\n",
    "    .setOutputCol(\"label\")\\\n",
    "    .setHandleInvalid(\"keep\")\n",
    "\n",
    "lr = LogisticRegression(maxIter=20, regParam=0.3, elasticNetParam=0)\n",
    "\n",
    "# Define the pipeline\n",
    "pipeline = Pipeline().setStages([regex_tokenizer, stopwords_remover, count_vectors, label_string_idx, lr])\n",
    "\n",
    "# Define the parameter grid for cross-validation\n",
    "param_grid = ParamGridBuilder()\\\n",
    "    .addGrid(lr.regParam, [0.1, 0.3, 0.5])\\\n",
    "    .addGrid(lr.elasticNetParam, [0.0, 0.2, 0.4])\\\n",
    "    .build()\n",
    "\n",
    "# Define the evaluator\n",
    "evaluator = MulticlassClassificationEvaluator(labelCol='label', predictionCol='prediction', metricName='accuracy')\n",
    "\n",
    "# Define the CrossValidator\n",
    "crossval = CrossValidator(estimator=pipeline,\n",
    "                          estimatorParamMaps=param_grid,\n",
    "                          evaluator=evaluator,\n",
    "                          numFolds=5)\n",
    "\n",
    "# Start the timer for GridSearchCV\n",
    "start_time_gridsearch = time.time()\n",
    "\n",
    "# Fit the model using cross-validation\n",
    "cv_model = crossval.fit(training)\n",
    "\n",
    "# End the timer for GridSearchCV\n",
    "end_time_gridsearch = time.time()\n",
    "\n",
    "# Calculate and print execution time for GridSearchCV\n",
    "gridsearch_time = end_time_gridsearch - start_time_gridsearch\n",
    "print(f\"GridSearchCV Execution Time: {gridsearch_time} seconds\")\n",
    "\n",
    "# Make predictions on the test set\n",
    "predictions_cv = cv_model.transform(test)\n",
    "\n",
    "# Evaluate the model\n",
    "accuracy = evaluator.evaluate(predictions_cv)\n",
    "print(\"Accuracy: {}\".format(accuracy))\n",
    "\n",
    "# Get the best model from cross-validation\n",
    "best_model = cv_model.bestModel\n",
    "\n",
    "# Display the best parameters\n",
    "print(\"Best RegParam: {}\".format(best_model.stages[-1]._java_obj.getRegParam()))\n",
    "print(\"Best ElasticNetParam: {}\".format(best_model.stages[-1]._java_obj.getElasticNetParam()))\n"
   ]
  },
  {
   "cell_type": "code",
   "execution_count": 20,
   "id": "dcc633f1",
   "metadata": {},
   "outputs": [
    {
     "name": "stderr",
     "output_type": "stream",
     "text": [
      "                                                                                \r"
     ]
    },
    {
     "name": "stdout",
     "output_type": "stream",
     "text": [
      "Best Parameters: {Param(parent='RegexTokenizer_f03f217cb58a', name='gaps', doc='whether regex splits on gaps (True) or matches tokens (False)'): True, Param(parent='RegexTokenizer_f03f217cb58a', name='minTokenLength', doc='minimum token length (>= 0)'): 1, Param(parent='RegexTokenizer_f03f217cb58a', name='outputCol', doc='output column name.'): 'tokens', Param(parent='RegexTokenizer_f03f217cb58a', name='pattern', doc='regex pattern (Java dialect) used for tokenizing'): '\\\\W', Param(parent='RegexTokenizer_f03f217cb58a', name='toLowercase', doc='whether to convert all characters to lowercase before tokenizing'): True, Param(parent='RegexTokenizer_f03f217cb58a', name='inputCol', doc='input column name.'): 'Description'}\n",
      "Elapsed Time: 105.80 seconds\n"
     ]
    }
   ],
   "source": [
    "lr_pipeline = Pipeline().setStages([regex_tokenizer, stopwords_remover, count_vectors, label_string_idx, lr])\n",
    "\n",
    "# Define the parameter grid\n",
    "param_grid = ParamGridBuilder() \\\n",
    "    .addGrid(count_vectors.vocabSize, [5000]) \\\n",
    "    .addGrid(count_vectors.minDF, [5]) \\\n",
    "    .addGrid(lr.maxIter, [100]) \\\n",
    "    .addGrid(lr.regParam, [0.5]) \\\n",
    "    .build()\n",
    "\n",
    "# Create a CrossValidator with Logistic Regression as the estimator\n",
    "crossval = CrossValidator(estimator=lr_pipeline,\n",
    "                          estimatorParamMaps=param_grid,\n",
    "                          evaluator=MulticlassClassificationEvaluator(),\n",
    "                          numFolds=5)  # You can adjust the number of folds\n",
    "\n",
    "# Record start time\n",
    "start_time = time.time()\n",
    "\n",
    "# Fit the CrossValidator to the training data and find the best parameters\n",
    "cv_model = crossval.fit(training)  # Use your training DataFrame instead of df\n",
    "\n",
    "# Record end time\n",
    "end_time = time.time()\n",
    "\n",
    "# Calculate the elapsed time\n",
    "elapsed_time = end_time - start_time\n",
    "\n",
    "# Print the best parameters\n",
    "print(\"Best Parameters: {}\".format(cv_model.bestModel.stages[0].extractParamMap()))\n",
    "print(\"Elapsed Time: {:.2f} seconds\".format(elapsed_time))\n",
    "\n",
    "# Use the best model to make predictions on the test data\n",
    "predictions = cv_model.transform(test)\n"
   ]
  },
  {
   "cell_type": "code",
   "execution_count": 32,
   "id": "102ede94",
   "metadata": {},
   "outputs": [
    {
     "name": "stdout",
     "output_type": "stream",
     "text": [
      "Total Execution Time: 628.42 seconds\n"
     ]
    },
    {
     "data": {
      "image/png": "[encoded data removed]",
      "text/plain": [
       "<Figure size 1200x800 with 1 Axes>"
      ]
     },
     "metadata": {},
     "output_type": "display_data"
    }
   ],
   "source": [
    "# Calculate total execution time\n",
    "total_execution_time = np.sum(execution_times_per_fold)\n",
    "\n",
    "# Print the total execution time\n",
    "print(f\"Total Execution Time: {total_execution_time} seconds\")\n",
    "\n",
    "# Labels for the plot\n",
    "labels = ['Fold 1', 'Fold 2', 'Fold 3', 'Fold 4', 'Fold 5']\n",
    "\n",
    "# Plot the execution times per fold\n",
    "plt.figure(figsize=(12, 8))\n",
    "plt.plot(labels, execution_times_per_fold, marker='o', linestyle='-', color='b')\n",
    "plt.title(\"Parallel Execution Time per Fold\")\n",
    "plt.xlabel(\"Fold Number\")\n",
    "plt.ylabel(\"Execution Time (seconds)\")\n",
    "plt.grid(True)\n",
    "plt.show()"
   ]
  },
  {
   "cell_type": "code",
   "execution_count": 37,
   "id": "be00b2b4",
   "metadata": {},
   "outputs": [
    {
     "name": "stderr",
     "output_type": "stream",
     "text": [
      "                                                                                \r"
     ]
    },
    {
     "name": "stdout",
     "output_type": "stream",
     "text": [
      "Best Parameters: {Param(parent='RegexTokenizer_d0a4ec9e97e3', name='gaps', doc='whether regex splits on gaps (True) or matches tokens (False)'): True, Param(parent='RegexTokenizer_d0a4ec9e97e3', name='minTokenLength', doc='minimum token length (>= 0)'): 1, Param(parent='RegexTokenizer_d0a4ec9e97e3', name='outputCol', doc='output column name.'): 'tokens', Param(parent='RegexTokenizer_d0a4ec9e97e3', name='pattern', doc='regex pattern (Java dialect) used for tokenizing'): '\\\\W', Param(parent='RegexTokenizer_d0a4ec9e97e3', name='toLowercase', doc='whether to convert all characters to lowercase before tokenizing'): True, Param(parent='RegexTokenizer_d0a4ec9e97e3', name='inputCol', doc='input column name.'): 'Description'}\n",
      "Elapsed Time: 516.04 seconds\n"
     ]
    }
   ],
   "source": [
    "lr_pipeline = Pipeline().setStages([regex_tokenizer, stopwords_remover, count_vectors, label_string_idx, lr])\n",
    "\n",
    "# Define the parameter grid for cross-validation\n",
    "param_grid = ParamGridBuilder() \\\n",
    "    .addGrid(count_vectors.vocabSize, [5000]) \\\n",
    "    .addGrid(count_vectors.minDF, [5]) \\\n",
    "    .addGrid(word2Vec.vectorSize, [100, 150]) \\\n",
    "    .addGrid(word2Vec.minCount, [0, 5, 10]) \\\n",
    "    .addGrid(lr.maxIter, [100]) \\\n",
    "    .addGrid(lr.regParam, [0.5]) \\\n",
    "    .build()\n",
    "\n",
    "# Create a CrossValidator with Logistic Regression as the estimator\n",
    "crossval = CrossValidator(estimator=lr_pipeline,\n",
    "                          estimatorParamMaps=param_grid,\n",
    "                          evaluator=MulticlassClassificationEvaluator(),\n",
    "                          numFolds=5)\n",
    "\n",
    "# Record start time\n",
    "start_time = time.time()\n",
    "\n",
    "# Fit the CrossValidator to the training data and find the best parameters\n",
    "cv_model = crossval.fit(training) \n",
    "\n",
    "# Record end time\n",
    "end_time = time.time()\n",
    "\n",
    "# Calculate the elapsed time\n",
    "elapsed_time = end_time - start_time\n",
    "\n",
    "# Print the best parameters\n",
    "print(\"Best Parameters: {}\".format(cv_model.bestModel.stages[0].extractParamMap()))\n",
    "print(\"Elapsed Time: {:.2f} seconds\".format(elapsed_time))\n",
    "\n",
    "# Use the best model to make predictions on the test data\n",
    "predictions = cv_model.transform(test)"
   ]
  },
  {
   "cell_type": "code",
   "execution_count": null,
   "id": "2592e4c6",
   "metadata": {},
   "outputs": [],
   "source": []
  }
 ],
 "metadata": {
  "kernelspec": {
   "display_name": "Python 3 (ipykernel)",
   "language": "python",
   "name": "python3"
  },
  "language_info": {
   "codemirror_mode": {
    "name": "ipython",
    "version": 3
   },
   "file_extension": ".py",
   "mimetype": "text/x-python",
   "name": "python",
   "nbconvert_exporter": "python",
   "pygments_lexer": "ipython3",
   "version": "3.9.13"
  }
 },
 "nbformat": 4,
 "nbformat_minor": 5
}
